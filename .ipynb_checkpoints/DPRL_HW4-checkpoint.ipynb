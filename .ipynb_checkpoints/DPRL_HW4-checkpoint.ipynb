{
 "cells": [
  {
   "cell_type": "code",
   "execution_count": 3,
   "metadata": {
    "scrolled": true
   },
   "outputs": [],
   "source": [
    "import numpy as np\n",
    "import math \n",
    "from copy import deepcopy\n",
    "import matplotlib.pyplot as plt\n",
    "from tqdm import tqdm\n",
    "\n",
    "# https://towardsdatascience.com/deep-q-learning-tutorial-mindqn-2a4c855abffc "
   ]
  },
  {
   "cell_type": "markdown",
   "metadata": {},
   "source": [
    "Part 1\n",
    "Question 1"
   ]
  },
  {
   "cell_type": "code",
   "execution_count": 9,
   "metadata": {},
   "outputs": [
    {
     "name": "stdout",
     "output_type": "stream",
     "text": [
      "[1, 2, 3, 4, 4]\n"
     ]
    }
   ],
   "source": [
    "na = np.nan\n",
    "# Transition matrix, where the first column is a(2) and the diagonal plus lower right value is a(1)\n",
    "T = np.array([[1, 1, na, na, na],\n",
    "              [1, na, 1, na, na],\n",
    "              [1, na, na, 1, na],\n",
    "              [1, na, na, na, 1],\n",
    "              [1, na, na, na, 1]])\n",
    "T1 = np.array([[na, 1, na, na, na],\n",
    "              [na, na, 1, na, na],\n",
    "              [na, na, na, 1, na],\n",
    "              [na, na, na, na, 1],\n",
    "              [na, na, na, na, 1]])\n",
    "T1 = [1, 2, 3, 4, 4]\n",
    "T2 = np.array([[1, na, na, na, na],\n",
    "              [1, na, na, na, na],\n",
    "              [1, na, na, na, na],\n",
    "              [1, na, na, na, na],\n",
    "              [1, na, na, na, na]])\n",
    "T2 = [0, 0, 0, 0, 0]\n",
    "# Reward matrix, where the first column is a(2) and the diagonal plus lower right value is a(1)\n",
    "R = np.array([[.2, 0, na, na, na],\n",
    "              [0, na, 0, na, na],\n",
    "              [0, na, na, 0, na],\n",
    "              [0, na, na, na, 0],\n",
    "              [0, na, na, na, 1]])\n",
    "R1 = np.array([[na, 0, na, na, na],\n",
    "              [na, na, 0, na, na],\n",
    "              [na, na, na, 0, na],\n",
    "              [na, na, na, na, 0],\n",
    "              [na, na, na, na, 1]])\n",
    "R1 = [0, 0, 0, 0, 1]\n",
    "R2 = np.array([[.2, na, na, na, na],\n",
    "              [0, na, na, na, na],\n",
    "              [0, na, na, na, na],\n",
    "              [0, na, na, na, na],\n",
    "              [0, na, na, na, na]])\n",
    "R2 = [0.2, 0, 0, 0, 0]\n",
    "\n",
    "# Q table for all states (1-5/0-4)\n",
    "Q_table = np.array([[0, 0.2],\n",
    "                    [0, 0],\n",
    "                    [0, 0],\n",
    "                    [0, 0],\n",
    "                    [1, 0]])\n",
    "# Discount factor\n",
    "gamma = 0.9 "
   ]
  },
  {
   "cell_type": "code",
   "execution_count": 5,
   "metadata": {},
   "outputs": [],
   "source": [
    "'''\n",
    "Epsilon greedy: try random (in this case 'min') move with epsilon probability\n",
    "'''\n",
    "def epsilon_greedy(next_state, action, Q_table, eps):\n",
    "    if np.random.random() < eps:\n",
    "        # Minimum since only 2 options\n",
    "        return np.min(Q_table[next_state])\n",
    "    else:\n",
    "        return np.max(Q_table[next_state])\n",
    "\n",
    "'''\n",
    "Function to run Part 1 with different Q-tables, Transisition- and Reward matrices\n",
    "'''\n",
    "def part_1(states = 5, convergence_crit = 0.0001, epsilon = 0, alpha = 0.1, do_print = False, do_print_first = False, bellman = True):\n",
    "\n",
    "    if states == 5:\n",
    "        # Q table for all states (1-5/0-4)\n",
    "        Q_table = np.array([[0, 0.2], [0, 0], [0, 0], [0, 0], [1, 0]])\n",
    "        T1 = [1, 2, 3, 4, 4]\n",
    "        T2 = [0, 0, 0, 0, 0]\n",
    "        R1 = [0, 0, 0, 0, 1]\n",
    "        R2 = [0.2, 0, 0, 0, 0]\n",
    "    else: # states == 10\n",
    "        # Q table for all states (1-10/0-9)\n",
    "        Q_table = np.array([[0, 0.2], [0, 0], [0, 0], [0, 0], [0, 0], [0, 0], [0, 0], [0, 0], [0, 0], [1, 0]] )\n",
    "        T1 = [1, 2, 3, 4, 5, 6, 7, 8, 9, 9]\n",
    "        T2 = [0, 0, 0, 0, 0, 0, 0, 0, 0, 0]\n",
    "        R1 = [0, 0, 0, 0, 0, 0, 0, 0, 0, 1]\n",
    "        R2 = [0.2, 0, 0, 0, 0, 0, 0, 0, 0, 0]\n",
    "\n",
    "    last_Q_table = np.array([np.inf])\n",
    "    epochs = 0\n",
    "    while np.abs(np.sum(Q_table) - np.sum(last_Q_table)) > convergence_crit:\n",
    "        #print(np.abs(np.sum(Q_table) - np.sum(last_Q_table)))\n",
    "        epochs += 1\n",
    "        last_Q_table = deepcopy(Q_table)\n",
    "        for state in range(len(Q_table)):\n",
    "            \n",
    "            ''' Action 1: '''\n",
    "            next_state = T1[state]\n",
    "            #Q_table[state][0] = R[state, next_state] + gamma * epsilon_greedy(next_state, 1, last_Q_table, epsilon)\n",
    "            if bellman: Q_table[state][0] = R1[state] + gamma * epsilon_greedy(next_state, 1, last_Q_table, epsilon)\n",
    "            else: Q_table[state][0] = Q_table[state][0] + alpha * (R1[state] + gamma * epsilon_greedy(next_state, 1, last_Q_table, epsilon) - Q_table[state][0])\n",
    "\n",
    "            ''' Action 2: '''\n",
    "            next_state = T2[state]\n",
    "            #Q_table[state][1] = R[state, next_state] + gamma * epsilon_greedy(next_state, 2, last_Q_table, epsilon)\n",
    "            if bellman: Q_table[state][1] = R2[state] + gamma * epsilon_greedy(next_state, 2, last_Q_table, epsilon)\n",
    "            else: Q_table[state][1] = Q_table[state][1] + alpha * ( R2[state] + gamma * epsilon_greedy(next_state, 2, last_Q_table, epsilon) - Q_table[state][1])\n",
    "\n",
    "        # Print first iteration: so can check if correct\n",
    "        if epochs == 1 and do_print_first:  print( Q_table)\n",
    "\n",
    "        # If more than 3 million epochs abort\n",
    "        if epochs > 3e6: \n",
    "            return None\n",
    "    if do_print:\n",
    "        print(epochs)\n",
    "        print(Q_table)\n",
    "    return epochs"
   ]
  },
  {
   "cell_type": "code",
   "execution_count": 6,
   "metadata": {
    "scrolled": true
   },
   "outputs": [
    {
     "name": "stdout",
     "output_type": "stream",
     "text": [
      "[[0.   0.38]\n",
      " [0.   0.18]\n",
      " [0.   0.18]\n",
      " [0.9  0.18]\n",
      " [1.9  0.18]]\n",
      "241\n",
      "[[ 6.561   6.1049]\n",
      " [ 7.29    5.9049]\n",
      " [ 8.1     5.9049]\n",
      " [ 9.      5.9049]\n",
      " [10.      5.9049]]\n"
     ]
    }
   ],
   "source": [
    "epochs = part_1(states = 5, convergence_crit=1e-10, do_print=True, bellman=True, do_print_first=True, epsilon=0)"
   ]
  },
  {
   "cell_type": "code",
   "execution_count": 7,
   "metadata": {},
   "outputs": [
    {
     "name": "stdout",
     "output_type": "stream",
     "text": [
      "[0.01 0.02 0.03 0.04 0.05 0.06 0.07 0.08 0.09 0.1  0.11 0.12 0.13 0.14\n",
      " 0.15 0.16 0.17 0.18 0.19 0.2  0.21 0.22 0.23 0.24 0.25 0.26 0.27 0.28\n",
      " 0.29 0.3  0.31 0.32 0.33 0.34 0.35 0.36 0.37 0.38 0.39 0.4  0.41 0.42\n",
      " 0.43 0.44 0.45 0.46 0.47 0.48 0.49 0.5  0.51 0.52 0.53 0.54 0.55 0.56\n",
      " 0.57 0.58 0.59 0.6  0.61 0.62 0.63 0.64 0.65 0.66 0.67 0.68 0.69 0.7\n",
      " 0.71 0.72 0.73 0.74 0.75 0.76 0.77 0.78 0.79 0.8  0.81 0.82 0.83 0.84\n",
      " 0.85 0.86 0.87 0.88 0.89 0.9  0.91 0.92 0.93 0.94 0.95 0.96 0.97 0.98\n",
      " 0.99 1.   1.01 1.02 1.03 1.04 1.05 1.06 1.07 1.08 1.09]\n",
      "[20609, 10646, 7229, 5492, 4436, 3725, 3214, 2827, 2525, 2282, 2082, 1915, 1773, 1651, 1545, 1452, 1369, 1296, 1230, 1170, 1116, 1067, 1022, 981, 943, 908, 875, 845, 817, 790, 765, 742, 720, 699, 680, 662, 644, 628, 612, 597, 583, 569, 556, 544, 532, 521, 510, 499, 489, 480, 470, 462, 453, 445, 437, 429, 422, 415, 408, 401, 394, 388, 382, 376, 370, 365, 359, 354, 349, 344, 339, 335, 330, 326, 321, 317, 313, 309, 305, 301, 298, 294, 290, 287, 284, 280, 277, 274, 271, 268, 265, 262, 259, 256, 254, 251, 248, 246, 243, 241, 238, 236, 234, 232, 229, 227, 225, 223, 221]\n"
     ]
    },
    {
     "data": {
      "image/png": "[encoded data removed]",
      "text/plain": [
       "<Figure size 432x288 with 1 Axes>"
      ]
     },
     "metadata": {
      "needs_background": "light"
     },
     "output_type": "display_data"
    }
   ],
   "source": [
    "'''\n",
    "Running Part 1 for 5 states: impact alpha\n",
    "'''\n",
    "impact_alpha = []\n",
    "alphas = np.arange(0.01, 1.1 ,.01)\n",
    "for alpha in alphas:\n",
    "    #print(alpha)\n",
    "    epochs = part_1(states = 5, convergence_crit=1e-10, do_print=False, alpha = alpha, bellman=False, do_print_first=False, epsilon=0)\n",
    "    impact_alpha.append(epochs)\n",
    "\n",
    "    \n",
    "print(alphas)\n",
    "print(impact_alpha)\n",
    "\n",
    "plt.plot(alphas, impact_alpha, label = \"5 states\" , c='orange')\n",
    "plt.xlabel('Alpha')\n",
    "plt.ylabel('Epochs')\n",
    "plt.title('Amount of epochs for different alphas, epsilon = 0')\n",
    "plt.xticks(np.arange(0, 1.1, .1))\n",
    "plt.yscale('log')\n",
    "plt.savefig('part_1_5states_alphas_eps=0.pdf')\n",
    "plt.grid()\n",
    "plt.legend()\n",
    "plt.show()"
   ]
  },
  {
   "cell_type": "code",
   "execution_count": 8,
   "metadata": {
    "scrolled": true
   },
   "outputs": [
    {
     "name": "stdout",
     "output_type": "stream",
     "text": [
      "[0.   0.01 0.02 0.03 0.04 0.05 0.06 0.07 0.08 0.09]\n"
     ]
    },
    {
     "name": "stderr",
     "output_type": "stream",
     "text": [
      "\r",
      "  0%|                                                                                           | 0/10 [00:00<?, ?it/s]"
     ]
    },
    {
     "name": "stdout",
     "output_type": "stream",
     "text": [
      "0.0\n",
      "0.01\n",
      "0.02\n"
     ]
    },
    {
     "name": "stderr",
     "output_type": "stream",
     "text": [
      "\r",
      " 30%|████████████████████████▉                                                          | 3/10 [00:00<00:01,  3.77it/s]"
     ]
    },
    {
     "name": "stdout",
     "output_type": "stream",
     "text": [
      "0.03\n"
     ]
    },
    {
     "name": "stderr",
     "output_type": "stream",
     "text": [
      "\r",
      " 40%|█████████████████████████████████▏                                                 | 4/10 [00:01<00:02,  2.05it/s]"
     ]
    },
    {
     "name": "stdout",
     "output_type": "stream",
     "text": [
      "0.04\n"
     ]
    },
    {
     "name": "stderr",
     "output_type": "stream",
     "text": [
      "\r",
      " 50%|█████████████████████████████████████████▌                                         | 5/10 [00:54<01:25, 17.05s/it]"
     ]
    },
    {
     "name": "stdout",
     "output_type": "stream",
     "text": [
      "0.05\n"
     ]
    },
    {
     "name": "stderr",
     "output_type": "stream",
     "text": [
      " 50%|█████████████████████████████████████████▌                                         | 5/10 [02:44<02:44, 32.87s/it]\n"
     ]
    },
    {
     "ename": "KeyboardInterrupt",
     "evalue": "",
     "output_type": "error",
     "traceback": [
      "\u001b[1;31m---------------------------------------------------------------------------\u001b[0m",
      "\u001b[1;31mKeyboardInterrupt\u001b[0m                         Traceback (most recent call last)",
      "\u001b[1;32m~\\AppData\\Local\\Temp/ipykernel_4036/2732073867.py\u001b[0m in \u001b[0;36m<module>\u001b[1;34m\u001b[0m\n\u001b[0;32m      8\u001b[0m     \u001b[0mprint\u001b[0m\u001b[1;33m(\u001b[0m\u001b[0mepsilon\u001b[0m\u001b[1;33m)\u001b[0m\u001b[1;33m\u001b[0m\u001b[1;33m\u001b[0m\u001b[0m\n\u001b[0;32m      9\u001b[0m     \u001b[1;31m#print(alpha)\u001b[0m\u001b[1;33m\u001b[0m\u001b[1;33m\u001b[0m\u001b[1;33m\u001b[0m\u001b[0m\n\u001b[1;32m---> 10\u001b[1;33m     \u001b[0mepochs\u001b[0m \u001b[1;33m=\u001b[0m \u001b[0mpart_1\u001b[0m\u001b[1;33m(\u001b[0m\u001b[0mstates\u001b[0m \u001b[1;33m=\u001b[0m \u001b[1;36m5\u001b[0m\u001b[1;33m,\u001b[0m \u001b[0mconvergence_crit\u001b[0m\u001b[1;33m=\u001b[0m\u001b[1;36m1e-10\u001b[0m\u001b[1;33m,\u001b[0m \u001b[0mdo_print\u001b[0m\u001b[1;33m=\u001b[0m\u001b[1;32mFalse\u001b[0m\u001b[1;33m,\u001b[0m \u001b[0malpha\u001b[0m \u001b[1;33m=\u001b[0m \u001b[1;36m0\u001b[0m\u001b[1;33m,\u001b[0m \u001b[0mbellman\u001b[0m\u001b[1;33m=\u001b[0m\u001b[1;32mTrue\u001b[0m\u001b[1;33m,\u001b[0m \u001b[0mdo_print_first\u001b[0m\u001b[1;33m=\u001b[0m\u001b[1;32mFalse\u001b[0m\u001b[1;33m,\u001b[0m \u001b[0mepsilon\u001b[0m\u001b[1;33m=\u001b[0m\u001b[0mepsilon\u001b[0m\u001b[1;33m)\u001b[0m\u001b[1;33m\u001b[0m\u001b[1;33m\u001b[0m\u001b[0m\n\u001b[0m\u001b[0;32m     11\u001b[0m     \u001b[1;32mif\u001b[0m \u001b[0mepochs\u001b[0m \u001b[1;33m==\u001b[0m \u001b[1;32mNone\u001b[0m\u001b[1;33m:\u001b[0m\u001b[1;33m\u001b[0m\u001b[1;33m\u001b[0m\u001b[0m\n\u001b[0;32m     12\u001b[0m         \u001b[1;32mbreak\u001b[0m\u001b[1;33m\u001b[0m\u001b[1;33m\u001b[0m\u001b[0m\n",
      "\u001b[1;32m~\\AppData\\Local\\Temp/ipykernel_4036/1836629469.py\u001b[0m in \u001b[0;36mpart_1\u001b[1;34m(states, convergence_crit, epsilon, alpha, do_print, do_print_first, bellman)\u001b[0m\n\u001b[0;32m     34\u001b[0m         \u001b[1;31m#print(np.abs(np.sum(Q_table) - np.sum(last_Q_table)))\u001b[0m\u001b[1;33m\u001b[0m\u001b[1;33m\u001b[0m\u001b[1;33m\u001b[0m\u001b[0m\n\u001b[0;32m     35\u001b[0m         \u001b[0mepochs\u001b[0m \u001b[1;33m+=\u001b[0m \u001b[1;36m1\u001b[0m\u001b[1;33m\u001b[0m\u001b[1;33m\u001b[0m\u001b[0m\n\u001b[1;32m---> 36\u001b[1;33m         \u001b[0mlast_Q_table\u001b[0m \u001b[1;33m=\u001b[0m \u001b[0mdeepcopy\u001b[0m\u001b[1;33m(\u001b[0m\u001b[0mQ_table\u001b[0m\u001b[1;33m)\u001b[0m\u001b[1;33m\u001b[0m\u001b[1;33m\u001b[0m\u001b[0m\n\u001b[0m\u001b[0;32m     37\u001b[0m         \u001b[1;32mfor\u001b[0m \u001b[0mstate\u001b[0m \u001b[1;32min\u001b[0m \u001b[0mrange\u001b[0m\u001b[1;33m(\u001b[0m\u001b[0mlen\u001b[0m\u001b[1;33m(\u001b[0m\u001b[0mQ_table\u001b[0m\u001b[1;33m)\u001b[0m\u001b[1;33m)\u001b[0m\u001b[1;33m:\u001b[0m\u001b[1;33m\u001b[0m\u001b[1;33m\u001b[0m\u001b[0m\n\u001b[0;32m     38\u001b[0m \u001b[1;33m\u001b[0m\u001b[0m\n",
      "\u001b[1;32m~\\anaconda3\\envs\\dprl\\lib\\copy.py\u001b[0m in \u001b[0;36mdeepcopy\u001b[1;34m(x, memo, _nil)\u001b[0m\n\u001b[0;32m    159\u001b[0m             \u001b[0mcopier\u001b[0m \u001b[1;33m=\u001b[0m \u001b[0mgetattr\u001b[0m\u001b[1;33m(\u001b[0m\u001b[0mx\u001b[0m\u001b[1;33m,\u001b[0m \u001b[1;34m\"__deepcopy__\"\u001b[0m\u001b[1;33m,\u001b[0m \u001b[1;32mNone\u001b[0m\u001b[1;33m)\u001b[0m\u001b[1;33m\u001b[0m\u001b[1;33m\u001b[0m\u001b[0m\n\u001b[0;32m    160\u001b[0m             \u001b[1;32mif\u001b[0m \u001b[0mcopier\u001b[0m\u001b[1;33m:\u001b[0m\u001b[1;33m\u001b[0m\u001b[1;33m\u001b[0m\u001b[0m\n\u001b[1;32m--> 161\u001b[1;33m                 \u001b[0my\u001b[0m \u001b[1;33m=\u001b[0m \u001b[0mcopier\u001b[0m\u001b[1;33m(\u001b[0m\u001b[0mmemo\u001b[0m\u001b[1;33m)\u001b[0m\u001b[1;33m\u001b[0m\u001b[1;33m\u001b[0m\u001b[0m\n\u001b[0m\u001b[0;32m    162\u001b[0m             \u001b[1;32melse\u001b[0m\u001b[1;33m:\u001b[0m\u001b[1;33m\u001b[0m\u001b[1;33m\u001b[0m\u001b[0m\n\u001b[0;32m    163\u001b[0m                 \u001b[0mreductor\u001b[0m \u001b[1;33m=\u001b[0m \u001b[0mdispatch_table\u001b[0m\u001b[1;33m.\u001b[0m\u001b[0mget\u001b[0m\u001b[1;33m(\u001b[0m\u001b[0mcls\u001b[0m\u001b[1;33m)\u001b[0m\u001b[1;33m\u001b[0m\u001b[1;33m\u001b[0m\u001b[0m\n",
      "\u001b[1;31mKeyboardInterrupt\u001b[0m: "
     ]
    }
   ],
   "source": [
    "'''\n",
    "Running Part 1 for 5 states: impact epsilon\n",
    "'''\n",
    "impact_epsilon_5 = []\n",
    "epsilons = np.arange(0, 0.1 ,.01)\n",
    "print(epsilons)\n",
    "for epsilon in tqdm(epsilons):\n",
    "    print(epsilon)\n",
    "    #print(alpha)\n",
    "    epochs = part_1(states = 5, convergence_crit=1e-10, do_print=False, alpha = 0, bellman=True, do_print_first=False, epsilon=epsilon)\n",
    "    if epochs == None:\n",
    "        break\n",
    "    impact_epsilon_5.append(epochs)\n",
    "\n",
    "    \n",
    "print(epsilons[:len(impact_epsilon_5)])\n",
    "print(impact_epsilon_5)\n",
    "\n",
    "plt.plot(epsilons[:len(impact_epsilon_5)], impact_epsilon_5, label = \"batch_size = 16\" )\n",
    "plt.xlabel('Epsilon')\n",
    "plt.ylabel('Epochs')\n",
    "plt.title('Amount of epochs for different epsilons, alpha = 1. States = 5')\n",
    "plt.xticks(epsilons[:len(impact_epsilon_5)])\n",
    "plt.yscale('log')\n",
    "plt.savefig('part_1_5states_epsilons_alpha=1.pdf')\n",
    "plt.show()"
   ]
  },
  {
   "cell_type": "code",
   "execution_count": 45,
   "metadata": {},
   "outputs": [
    {
     "name": "stdout",
     "output_type": "stream",
     "text": [
      "[0.   0.01 0.02 0.03 0.04 0.05 0.06 0.07 0.08 0.09]\n"
     ]
    },
    {
     "name": "stderr",
     "output_type": "stream",
     "text": [
      "  0%|          | 0/10 [00:00<?, ?it/s]"
     ]
    },
    {
     "name": "stdout",
     "output_type": "stream",
     "text": [
      "0.0\n",
      "0.01\n"
     ]
    },
    {
     "name": "stderr",
     "output_type": "stream",
     "text": [
      " 20%|██        | 2/10 [00:00<00:00,  9.12it/s]"
     ]
    },
    {
     "name": "stdout",
     "output_type": "stream",
     "text": [
      "0.02\n"
     ]
    },
    {
     "name": "stderr",
     "output_type": "stream",
     "text": [
      " 30%|███       | 3/10 [00:02<00:06,  1.09it/s]"
     ]
    },
    {
     "name": "stdout",
     "output_type": "stream",
     "text": [
      "0.03\n"
     ]
    },
    {
     "name": "stderr",
     "output_type": "stream",
     "text": [
      " 40%|████      | 4/10 [00:05<00:11,  1.89s/it]"
     ]
    },
    {
     "name": "stdout",
     "output_type": "stream",
     "text": [
      "0.04\n"
     ]
    },
    {
     "name": "stderr",
     "output_type": "stream",
     "text": [
      " 40%|████      | 4/10 [06:40<10:00, 100.02s/it]\n"
     ]
    },
    {
     "name": "stdout",
     "output_type": "stream",
     "text": [
      "[0.   0.01 0.02 0.03]\n",
      "[247, 1186, 12210, 24340]\n"
     ]
    },
    {
     "data": {
      "image/png": "[encoded data removed]",
      "text/plain": [
       "<Figure size 432x288 with 1 Axes>"
      ]
     },
     "metadata": {
      "needs_background": "light"
     },
     "output_type": "display_data"
    }
   ],
   "source": [
    "'''\n",
    "Running Part 1 for 10 states\n",
    "'''\n",
    "'''\n",
    "Running Part 1 for 5 states: impact epsilon\n",
    "'''\n",
    "impact_epsilon_10 = []\n",
    "epsilons = np.arange(0, 0.1 ,.01)\n",
    "print(epsilons)\n",
    "for epsilon in tqdm(epsilons):\n",
    "    print(epsilon)\n",
    "    #print(alpha)\n",
    "    epochs = part_1(states = 10, convergence_crit=1e-10, do_print=False, alpha = 0, bellman=True, do_print_first=False, epsilon=epsilon)\n",
    "    if epochs == None:\n",
    "        break\n",
    "    impact_epsilon_10.append(epochs)\n",
    "\n",
    "    \n",
    "print(epsilons[:len(impact_epsilon_10)])\n",
    "print(impact_epsilon_10)\n",
    "\n",
    "plt.plot(epsilons[:len(impact_epsilon_10)], impact_epsilon_10, label = \"batch_size = 16\" )\n",
    "plt.xlabel('Epsilon')\n",
    "plt.ylabel('Epochs')\n",
    "plt.title('Amount of epochs for different epsilons, alpha = 1. States = 10')\n",
    "plt.xticks(epsilons[:len(impact_epsilon_10)])\n",
    "plt.yscale('log')\n",
    "plt.savefig('part_1_10states_epsilons_alpha=1.pdf')\n",
    "plt.show()"
   ]
  },
  {
   "cell_type": "code",
   "execution_count": 55,
   "metadata": {},
   "outputs": [
    {
     "data": {
      "image/png": "[encoded data removed]",
      "text/plain": [
       "<Figure size 432x288 with 1 Axes>"
      ]
     },
     "metadata": {
      "needs_background": "light"
     },
     "output_type": "display_data"
    }
   ],
   "source": [
    "#TODO: Put both epsilons in one figure\n",
    "\n",
    "plt.plot(epsilons[:len(impact_epsilon_5)], impact_epsilon_5, label = \"5 states\", c=\"orange\" )\n",
    "plt.plot(epsilons[:len(impact_epsilon_10)], impact_epsilon_10, label = \"10 states\" , c='mediumblue')\n",
    "plt.xlabel('Epsilon')\n",
    "plt.ylabel('Epochs')\n",
    "plt.title('Amount of epochs for different epsilons and states, alpha = 1')\n",
    "plt.xticks(epsilons[:len(impact_epsilon_5)])\n",
    "plt.yscale('log')\n",
    "plt.legend()\n",
    "plt.grid()\n",
    "plt.savefig('part_1_10and5states_epsilons_alpha=1.pdf')\n",
    "plt.show()"
   ]
  },
  {
   "cell_type": "markdown",
   "metadata": {},
   "source": [
    "# Part 2 : Function approximations"
   ]
  },
  {
   "cell_type": "code",
   "execution_count": 44,
   "metadata": {},
   "outputs": [],
   "source": [
    "import tensorflow as tf\n",
    "from tensorflow import keras\n",
    "from collections import deque\n",
    "import random"
   ]
  },
  {
   "cell_type": "code",
   "execution_count": 61,
   "metadata": {},
   "outputs": [],
   "source": [
    "'''\n",
    "Function to create the main and target net\n",
    "'''\n",
    "\n",
    "def net(state_dim, action_dim):\n",
    "    lr = 0.001\n",
    "    heu = tf.keras.initializers.HeUniform()\n",
    "    model = keras.Sequential()\n",
    "    model.add(keras.layers.Dense(28, input_shape=state_dim, activation='relu', kernel_initializer=heu))\n",
    "    model.add(keras.layers.Dense(16, activation='relu', kernel_initializer=heu))\n",
    "    model.add(keras.layers.Dense(action_dim, activation='linear', kernel_initializer=heu))\n",
    "    model.compile(loss=tf.keras.losses.Huber(), optimizer=tf.keras.optimizers.Adam(lr=lr), metrics=['accuracy'])\n",
    "    return model"
   ]
  },
  {
   "cell_type": "code",
   "execution_count": 58,
   "metadata": {},
   "outputs": [],
   "source": [
    "def train(replay_memory, model, target_model, done):\n",
    "    learning_rate = 0.7 # Learning rate\n",
    "    discount_factor = 0.618\n",
    "\n",
    "    MIN_REPLAY_SIZE = 1000\n",
    "    if len(replay_memory) < MIN_REPLAY_SIZE:\n",
    "        return\n",
    "\n",
    "    batch_size = 64*2\n",
    "    mini_batch = random.sample(replay_memory, batch_size)\n",
    "    current_states = np.array([transition[0] for transition in mini_batch]) ## needs one-hot encoding\n",
    "\n",
    "    current_qs_list = model.predict(current_states)\n",
    "    new_current_states = np.array([transition[3] for transition in mini_batch])\n",
    "    future_qs_list = target_model.predict(new_current_states)\n",
    "\n",
    "    X = []\n",
    "    Y = []\n",
    "    for index, (observation, action, reward, new_observation, done) in enumerate(mini_batch):\n",
    "        if not done:\n",
    "            max_future_q = reward + discount_factor * np.max(future_qs_list[index])\n",
    "        else:\n",
    "            max_future_q = reward\n",
    "\n",
    "        current_qs = current_qs_list[index]\n",
    "        current_qs[action] = (1 - learning_rate) * current_qs[action] + learning_rate * max_future_q\n",
    "\n",
    "        X.append(observation)\n",
    "        Y.append(current_qs)\n",
    "    model.fit(np.array(X), np.array(Y), batch_size=batch_size, verbose=0, shuffle=True)\n"
   ]
  },
  {
   "cell_type": "code",
   "execution_count": 59,
   "metadata": {},
   "outputs": [],
   "source": [
    "def dql(states = 5):\n",
    "    epsilon = 1 \n",
    "    max_epsilon = 1 \n",
    "    min_epsilon = 0.01 \n",
    "    decay = 0.01\n",
    "    epochs = 100\n",
    "    \n",
    "    if states == 5:\n",
    "        T1 = [1, 2, 3, 4, 4]\n",
    "        T2 = [0, 0, 0, 0, 0]\n",
    "        R1 = [0, 0, 0, 0, 1]\n",
    "        R2 = [0.2, 0, 0, 0, 0]\n",
    "    else: # states == 10\n",
    "        T1 = [1, 2, 3, 4, 5, 6, 7, 8, 9, 9]\n",
    "        T2 = [0, 0, 0, 0, 0, 0, 0, 0, 0, 0]\n",
    "        R1 = [0, 0, 0, 0, 0, 0, 0, 0, 0, 1]\n",
    "        R2 = [0.2, 0, 0, 0, 0, 0, 0, 0, 0, 0]\n",
    "    \n",
    "\n",
    "    model = net((64,5), 2)\n",
    "    target_model = net((64,5), 2)\n",
    "    target_model.set_weights(model.get_weights())\n",
    "\n",
    "    replay_memory = deque(maxlen=50_000)\n",
    "\n",
    "    target_update_counter = 0\n",
    "\n",
    "    steps_to_update_target_model = 0\n",
    "\n",
    "    for epoch in range(epochs):\n",
    "        total_training_rewards = 0\n",
    "        state = 0\n",
    "        done = False\n",
    "        while not done:\n",
    "            steps_to_update_target_model += 1\n",
    "\n",
    "            random_number = np.random.rand()\n",
    "            if random_number <= epsilon:\n",
    "                action = np.random.randint(0,2)\n",
    "            else:\n",
    "                encoded = state\n",
    "                encoded_reshaped = encoded.reshape([1, encoded.shape[0]])\n",
    "                predicted = model.predict(encoded_reshaped).flatten()\n",
    "                action = np.argmax(predicted)\n",
    "            \n",
    "            new_state = T1[state] if action == 0 else T2[state]\n",
    "            reward = R1[state] if action == 0 else R2[state]\n",
    "            \n",
    "\n",
    "            replay_memory.append([state, action, reward, new_state, done])\n",
    "\n",
    "            # update main with Bellman\n",
    "            if steps_to_update_target_model % 4 == 0 or done:\n",
    "                train(replay_memory, model, target_model, done)\n",
    "\n",
    "            state = new_state\n",
    "            total_training_rewards += reward\n",
    "            \n",
    "            \n",
    "\n",
    "            if done:\n",
    "                total_training_rewards += 1\n",
    "                if steps_to_update_target_model >= 100:\n",
    "                    target_model.set_weights(model.get_weights())\n",
    "                    steps_to_update_target_model = 0\n",
    "                break\n",
    "\n",
    "        epsilon = min_epsilon + (max_epsilon - min_epsilon) * np.exp(-decay * epoch)\n"
   ]
  },
  {
   "cell_type": "code",
   "execution_count": 60,
   "metadata": {
    "scrolled": false
   },
   "outputs": [
    {
     "name": "stdout",
     "output_type": "stream",
     "text": [
      "(128, 1)\n",
      "WARNING:tensorflow:Model was constructed with shape (None, 64, 5) for input KerasTensor(type_spec=TensorSpec(shape=(None, 64, 5), dtype=tf.float32, name='dense_68_input'), name='dense_68_input', description=\"created by layer 'dense_68_input'\"), but it was called on an input with incompatible shape (32, 1).\n"
     ]
    },
    {
     "ename": "ValueError",
     "evalue": "in user code:\n\n    File \"C:\\Users\\bblaz\\anaconda3\\envs\\dprl\\lib\\site-packages\\keras\\engine\\training.py\", line 1621, in predict_function  *\n        return step_function(self, iterator)\n    File \"C:\\Users\\bblaz\\anaconda3\\envs\\dprl\\lib\\site-packages\\keras\\engine\\training.py\", line 1611, in step_function  **\n        outputs = model.distribute_strategy.run(run_step, args=(data,))\n    File \"C:\\Users\\bblaz\\anaconda3\\envs\\dprl\\lib\\site-packages\\keras\\engine\\training.py\", line 1604, in run_step  **\n        outputs = model.predict_step(data)\n    File \"C:\\Users\\bblaz\\anaconda3\\envs\\dprl\\lib\\site-packages\\keras\\engine\\training.py\", line 1572, in predict_step\n        return self(x, training=False)\n    File \"C:\\Users\\bblaz\\anaconda3\\envs\\dprl\\lib\\site-packages\\keras\\utils\\traceback_utils.py\", line 67, in error_handler\n        raise e.with_traceback(filtered_tb) from None\n    File \"C:\\Users\\bblaz\\anaconda3\\envs\\dprl\\lib\\site-packages\\keras\\engine\\input_spec.py\", line 248, in assert_input_compatibility\n        f'Input {input_index} of layer \"{layer_name}\" is '\n\n    ValueError: Exception encountered when calling layer \"sequential_25\" (type Sequential).\n    \n    Input 0 of layer \"dense_68\" is incompatible with the layer: expected axis -1of input shape to have value 5, but received input with shape (32, 1)\n    \n    Call arguments received:\n      • inputs=tf.Tensor(shape=(32, 1), dtype=int32)\n      • training=False\n      • mask=None\n",
     "output_type": "error",
     "traceback": [
      "\u001b[1;31m---------------------------------------------------------------------------\u001b[0m",
      "\u001b[1;31mValueError\u001b[0m                                Traceback (most recent call last)",
      "\u001b[1;32m~\\AppData\\Local\\Temp/ipykernel_4036/3477876069.py\u001b[0m in \u001b[0;36m<module>\u001b[1;34m\u001b[0m\n\u001b[1;32m----> 1\u001b[1;33m \u001b[0mdql\u001b[0m\u001b[1;33m(\u001b[0m\u001b[1;33m)\u001b[0m \u001b[1;31m#[0, 0, 0, 1, False]\u001b[0m\u001b[1;33m\u001b[0m\u001b[1;33m\u001b[0m\u001b[0m\n\u001b[0m",
      "\u001b[1;32m~\\AppData\\Local\\Temp/ipykernel_4036/169206990.py\u001b[0m in \u001b[0;36mdql\u001b[1;34m(states)\u001b[0m\n\u001b[0;32m     59\u001b[0m             \u001b[1;31m# 3. Update the Main Network using the Bellman Equation\u001b[0m\u001b[1;33m\u001b[0m\u001b[1;33m\u001b[0m\u001b[1;33m\u001b[0m\u001b[0m\n\u001b[0;32m     60\u001b[0m             \u001b[1;32mif\u001b[0m \u001b[0msteps_to_update_target_model\u001b[0m \u001b[1;33m%\u001b[0m \u001b[1;36m4\u001b[0m \u001b[1;33m==\u001b[0m \u001b[1;36m0\u001b[0m \u001b[1;32mor\u001b[0m \u001b[0mdone\u001b[0m\u001b[1;33m:\u001b[0m\u001b[1;33m\u001b[0m\u001b[1;33m\u001b[0m\u001b[0m\n\u001b[1;32m---> 61\u001b[1;33m                 \u001b[0mtrain\u001b[0m\u001b[1;33m(\u001b[0m\u001b[0mreplay_memory\u001b[0m\u001b[1;33m,\u001b[0m \u001b[0mmodel\u001b[0m\u001b[1;33m,\u001b[0m \u001b[0mtarget_model\u001b[0m\u001b[1;33m,\u001b[0m \u001b[0mdone\u001b[0m\u001b[1;33m)\u001b[0m\u001b[1;33m\u001b[0m\u001b[1;33m\u001b[0m\u001b[0m\n\u001b[0m\u001b[0;32m     62\u001b[0m \u001b[1;31m#                 if np.abs(np.sum(Q_table) - np.sum(last_Q_table)) > convergence_crit:\u001b[0m\u001b[1;33m\u001b[0m\u001b[1;33m\u001b[0m\u001b[1;33m\u001b[0m\u001b[0m\n\u001b[0;32m     63\u001b[0m \u001b[1;31m#                     done = True\u001b[0m\u001b[1;33m\u001b[0m\u001b[1;33m\u001b[0m\u001b[1;33m\u001b[0m\u001b[0m\n",
      "\u001b[1;32m~\\AppData\\Local\\Temp/ipykernel_4036/3399035307.py\u001b[0m in \u001b[0;36mtrain\u001b[1;34m(replay_memory, model, target_model, done)\u001b[0m\n\u001b[0;32m     12\u001b[0m     \u001b[0mcurrent_states\u001b[0m \u001b[1;33m=\u001b[0m \u001b[0mtf\u001b[0m\u001b[1;33m.\u001b[0m\u001b[0mexpand_dims\u001b[0m\u001b[1;33m(\u001b[0m\u001b[0mcurrent_states\u001b[0m\u001b[1;33m,\u001b[0m \u001b[1;33m-\u001b[0m\u001b[1;36m1\u001b[0m\u001b[1;33m)\u001b[0m\u001b[1;33m\u001b[0m\u001b[1;33m\u001b[0m\u001b[0m\n\u001b[0;32m     13\u001b[0m     \u001b[0mprint\u001b[0m\u001b[1;33m(\u001b[0m\u001b[0mcurrent_states\u001b[0m\u001b[1;33m.\u001b[0m\u001b[0mshape\u001b[0m\u001b[1;33m)\u001b[0m\u001b[1;33m\u001b[0m\u001b[1;33m\u001b[0m\u001b[0m\n\u001b[1;32m---> 14\u001b[1;33m     \u001b[0mcurrent_qs_list\u001b[0m \u001b[1;33m=\u001b[0m \u001b[0mmodel\u001b[0m\u001b[1;33m.\u001b[0m\u001b[0mpredict\u001b[0m\u001b[1;33m(\u001b[0m\u001b[0mcurrent_states\u001b[0m\u001b[1;33m)\u001b[0m\u001b[1;33m\u001b[0m\u001b[1;33m\u001b[0m\u001b[0m\n\u001b[0m\u001b[0;32m     15\u001b[0m     \u001b[0mnew_current_states\u001b[0m \u001b[1;33m=\u001b[0m \u001b[0mnp\u001b[0m\u001b[1;33m.\u001b[0m\u001b[0marray\u001b[0m\u001b[1;33m(\u001b[0m\u001b[1;33m[\u001b[0m\u001b[0mtransition\u001b[0m\u001b[1;33m[\u001b[0m\u001b[1;36m3\u001b[0m\u001b[1;33m]\u001b[0m \u001b[1;32mfor\u001b[0m \u001b[0mtransition\u001b[0m \u001b[1;32min\u001b[0m \u001b[0mmini_batch\u001b[0m\u001b[1;33m]\u001b[0m\u001b[1;33m)\u001b[0m\u001b[1;33m\u001b[0m\u001b[1;33m\u001b[0m\u001b[0m\n\u001b[0;32m     16\u001b[0m     \u001b[0mfuture_qs_list\u001b[0m \u001b[1;33m=\u001b[0m \u001b[0mtarget_model\u001b[0m\u001b[1;33m.\u001b[0m\u001b[0mpredict\u001b[0m\u001b[1;33m(\u001b[0m\u001b[0mnew_current_states\u001b[0m\u001b[1;33m)\u001b[0m\u001b[1;33m\u001b[0m\u001b[1;33m\u001b[0m\u001b[0m\n",
      "\u001b[1;32m~\\anaconda3\\envs\\dprl\\lib\\site-packages\\keras\\utils\\traceback_utils.py\u001b[0m in \u001b[0;36merror_handler\u001b[1;34m(*args, **kwargs)\u001b[0m\n\u001b[0;32m     65\u001b[0m     \u001b[1;32mexcept\u001b[0m \u001b[0mException\u001b[0m \u001b[1;32mas\u001b[0m \u001b[0me\u001b[0m\u001b[1;33m:\u001b[0m  \u001b[1;31m# pylint: disable=broad-except\u001b[0m\u001b[1;33m\u001b[0m\u001b[1;33m\u001b[0m\u001b[0m\n\u001b[0;32m     66\u001b[0m       \u001b[0mfiltered_tb\u001b[0m \u001b[1;33m=\u001b[0m \u001b[0m_process_traceback_frames\u001b[0m\u001b[1;33m(\u001b[0m\u001b[0me\u001b[0m\u001b[1;33m.\u001b[0m\u001b[0m__traceback__\u001b[0m\u001b[1;33m)\u001b[0m\u001b[1;33m\u001b[0m\u001b[1;33m\u001b[0m\u001b[0m\n\u001b[1;32m---> 67\u001b[1;33m       \u001b[1;32mraise\u001b[0m \u001b[0me\u001b[0m\u001b[1;33m.\u001b[0m\u001b[0mwith_traceback\u001b[0m\u001b[1;33m(\u001b[0m\u001b[0mfiltered_tb\u001b[0m\u001b[1;33m)\u001b[0m \u001b[1;32mfrom\u001b[0m \u001b[1;32mNone\u001b[0m\u001b[1;33m\u001b[0m\u001b[1;33m\u001b[0m\u001b[0m\n\u001b[0m\u001b[0;32m     68\u001b[0m     \u001b[1;32mfinally\u001b[0m\u001b[1;33m:\u001b[0m\u001b[1;33m\u001b[0m\u001b[1;33m\u001b[0m\u001b[0m\n\u001b[0;32m     69\u001b[0m       \u001b[1;32mdel\u001b[0m \u001b[0mfiltered_tb\u001b[0m\u001b[1;33m\u001b[0m\u001b[1;33m\u001b[0m\u001b[0m\n",
      "\u001b[1;32m~\\anaconda3\\envs\\dprl\\lib\\site-packages\\tensorflow\\python\\framework\\func_graph.py\u001b[0m in \u001b[0;36mautograph_handler\u001b[1;34m(*args, **kwargs)\u001b[0m\n\u001b[0;32m   1127\u001b[0m           \u001b[1;32mexcept\u001b[0m \u001b[0mException\u001b[0m \u001b[1;32mas\u001b[0m \u001b[0me\u001b[0m\u001b[1;33m:\u001b[0m  \u001b[1;31m# pylint:disable=broad-except\u001b[0m\u001b[1;33m\u001b[0m\u001b[1;33m\u001b[0m\u001b[0m\n\u001b[0;32m   1128\u001b[0m             \u001b[1;32mif\u001b[0m \u001b[0mhasattr\u001b[0m\u001b[1;33m(\u001b[0m\u001b[0me\u001b[0m\u001b[1;33m,\u001b[0m \u001b[1;34m\"ag_error_metadata\"\u001b[0m\u001b[1;33m)\u001b[0m\u001b[1;33m:\u001b[0m\u001b[1;33m\u001b[0m\u001b[1;33m\u001b[0m\u001b[0m\n\u001b[1;32m-> 1129\u001b[1;33m               \u001b[1;32mraise\u001b[0m \u001b[0me\u001b[0m\u001b[1;33m.\u001b[0m\u001b[0mag_error_metadata\u001b[0m\u001b[1;33m.\u001b[0m\u001b[0mto_exception\u001b[0m\u001b[1;33m(\u001b[0m\u001b[0me\u001b[0m\u001b[1;33m)\u001b[0m\u001b[1;33m\u001b[0m\u001b[1;33m\u001b[0m\u001b[0m\n\u001b[0m\u001b[0;32m   1130\u001b[0m             \u001b[1;32melse\u001b[0m\u001b[1;33m:\u001b[0m\u001b[1;33m\u001b[0m\u001b[1;33m\u001b[0m\u001b[0m\n\u001b[0;32m   1131\u001b[0m               \u001b[1;32mraise\u001b[0m\u001b[1;33m\u001b[0m\u001b[1;33m\u001b[0m\u001b[0m\n",
      "\u001b[1;31mValueError\u001b[0m: in user code:\n\n    File \"C:\\Users\\bblaz\\anaconda3\\envs\\dprl\\lib\\site-packages\\keras\\engine\\training.py\", line 1621, in predict_function  *\n        return step_function(self, iterator)\n    File \"C:\\Users\\bblaz\\anaconda3\\envs\\dprl\\lib\\site-packages\\keras\\engine\\training.py\", line 1611, in step_function  **\n        outputs = model.distribute_strategy.run(run_step, args=(data,))\n    File \"C:\\Users\\bblaz\\anaconda3\\envs\\dprl\\lib\\site-packages\\keras\\engine\\training.py\", line 1604, in run_step  **\n        outputs = model.predict_step(data)\n    File \"C:\\Users\\bblaz\\anaconda3\\envs\\dprl\\lib\\site-packages\\keras\\engine\\training.py\", line 1572, in predict_step\n        return self(x, training=False)\n    File \"C:\\Users\\bblaz\\anaconda3\\envs\\dprl\\lib\\site-packages\\keras\\utils\\traceback_utils.py\", line 67, in error_handler\n        raise e.with_traceback(filtered_tb) from None\n    File \"C:\\Users\\bblaz\\anaconda3\\envs\\dprl\\lib\\site-packages\\keras\\engine\\input_spec.py\", line 248, in assert_input_compatibility\n        f'Input {input_index} of layer \"{layer_name}\" is '\n\n    ValueError: Exception encountered when calling layer \"sequential_25\" (type Sequential).\n    \n    Input 0 of layer \"dense_68\" is incompatible with the layer: expected axis -1of input shape to have value 5, but received input with shape (32, 1)\n    \n    Call arguments received:\n      • inputs=tf.Tensor(shape=(32, 1), dtype=int32)\n      • training=False\n      • mask=None\n"
     ]
    }
   ],
   "source": [
    "dql() #[0, 0, 0, 1, False]"
   ]
  }
 ],
 "metadata": {
  "interpreter": {
   "hash": "571775b6b1c8bf1344d81ba631d9525b33533638421747ca8eeb161762204825"
  },
  "kernelspec": {
   "display_name": "dprl",
   "language": "python",
   "name": "dprl"
  },
  "language_info": {
   "codemirror_mode": {
    "name": "ipython",
    "version": 3
   },
   "file_extension": ".py",
   "mimetype": "text/x-python",
   "name": "python",
   "nbconvert_exporter": "python",
   "pygments_lexer": "ipython3",
   "version": "3.7.11"
  }
 },
 "nbformat": 4,
 "nbformat_minor": 2
}
