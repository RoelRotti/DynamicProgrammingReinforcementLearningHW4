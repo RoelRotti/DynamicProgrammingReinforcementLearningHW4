{
 "cells": [
  {
   "cell_type": "code",
   "execution_count": 1,
   "metadata": {},
   "outputs": [],
   "source": [
    "import numpy as np\n",
    "import math \n",
    "from copy import deepcopy\n",
    "\n",
    "# https://towardsdatascience.com/deep-q-learning-tutorial-mindqn-2a4c855abffc "
   ]
  },
  {
   "cell_type": "markdown",
   "metadata": {},
   "source": [
    "Part 1\n",
    "Question 1"
   ]
  },
  {
   "cell_type": "code",
   "execution_count": 10,
   "metadata": {},
   "outputs": [],
   "source": [
    "na = np.nan\n",
    "# Transition matrix, where the first column is a(2) and the diagonal plus lower right value is a(1)\n",
    "T = np.array([[1, 1, na, na, na],\n",
    "              [1, na, 1, na, na],\n",
    "              [1, na, na, 1, na],\n",
    "              [1, na, na, na, 1],\n",
    "              [1, na, na, na, 1]])\n",
    "T1 = np.array([[na, 1, na, na, na],\n",
    "              [na, na, 1, na, na],\n",
    "              [na, na, na, 1, na],\n",
    "              [na, na, na, na, 1],\n",
    "              [na, na, na, na, 1]])\n",
    "T1 = [1, 2, 3, 4, 4]\n",
    "T2 = np.array([[1, na, na, na, na],\n",
    "              [1, na, na, na, na],\n",
    "              [1, na, na, na, na],\n",
    "              [1, na, na, na, na],\n",
    "              [1, na, na, na, na]])\n",
    "T2 = [0, 0, 0, 0, 0]\n",
    "# Reward matrix, where the first column is a(2) and the diagonal plus lower right value is a(1)\n",
    "R = np.array([[.2, 0, na, na, na],\n",
    "              [0, na, 0, na, na],\n",
    "              [0, na, na, 0, na],\n",
    "              [0, na, na, na, 0],\n",
    "              [0, na, na, na, 1]])\n",
    "R1 = np.array([[na, 0, na, na, na],\n",
    "              [na, na, 0, na, na],\n",
    "              [na, na, na, 0, na],\n",
    "              [na, na, na, na, 0],\n",
    "              [na, na, na, na, 1]])\n",
    "R1 = [0, 0, 0, 0, 1]\n",
    "R2 = np.array([[.2, na, na, na, na],\n",
    "              [0, na, na, na, na],\n",
    "              [0, na, na, na, na],\n",
    "              [0, na, na, na, na],\n",
    "              [0, na, na, na, na]])\n",
    "R2 = [0.2, 0, 0, 0, 0]\n",
    "\n",
    "# Q table for all states (1-5/0-4)\n",
    "Q_table = np.array([[0, 0.2],\n",
    "                    [0, 0],\n",
    "                    [0, 0],\n",
    "                    [0, 0],\n",
    "                    [1, 0]])\n",
    "# Discount factor\n",
    "gamma = 0.9 "
   ]
  },
  {
   "cell_type": "code",
   "execution_count": 67,
   "metadata": {},
   "outputs": [],
   "source": [
    "'''\n",
    "Epsilon greedy: try random (in this case 'min') move with epsilon probability\n",
    "'''\n",
    "def epsilon_greedy(next_state, action, Q_table, eps):\n",
    "    if np.random.random() < eps:\n",
    "        # Minimum since only 2 options\n",
    "        return np.min(Q_table[next_state])\n",
    "    else:\n",
    "        return np.max(Q_table[next_state])\n",
    "\n",
    "'''\n",
    "Function to run Part 1 with different Q-tables, Transisition- and Reward matrices\n",
    "'''\n",
    "def part_1(states = 5, convergence_crit = 0.0001, epsilon = 0, do_print = False, do_print_first = False):\n",
    "\n",
    "    if states == 5:\n",
    "        # Q table for all states (1-5/0-4)\n",
    "        Q_table = np.array([[0, 0.2], [0, 0], [0, 0], [0, 0], [1, 0]])\n",
    "        T1 = [1, 2, 3, 4, 4]\n",
    "        T2 = [0, 0, 0, 0, 0]\n",
    "        R1 = [0, 0, 0, 0, 1]\n",
    "        R2 = [0.2, 0, 0, 0, 0]\n",
    "    else: # states == 10\n",
    "        # Q table for all states (1-10/0-9)\n",
    "        Q_table = np.array([[0, 0.2], [0, 0], [0, 0], [0, 0], [0, 0], [0, 0], [0, 0], [0, 0], [0, 0], [1, 0]] )\n",
    "        T1 = [1, 2, 3, 4, 5, 6, 7, 8, 9, 9]\n",
    "        T2 = [0, 0, 0, 0, 0, 0, 0, 0, 0, 0]\n",
    "        R1 = [0, 0, 0, 0, 0, 0, 0, 0, 0, 1]\n",
    "        R2 = [0.2, 0, 0, 0, 0, 0, 0, 0, 0, 0]\n",
    "\n",
    "    last_Q_table = np.array([np.inf])\n",
    "    epochs = 0\n",
    "    while np.abs(np.sum(Q_table) - np.sum(last_Q_table)) > convergence_crit:\n",
    "        epochs += 1\n",
    "        last_Q_table = deepcopy(Q_table)\n",
    "        for state in range(len(Q_table)):\n",
    "            ''' Action 1: '''\n",
    "            next_state = T1[state]\n",
    "            #Q_table[state][0] = R[state, next_state] + gamma * epsilon_greedy(next_state, 1, last_Q_table, epsilon)\n",
    "            Q_table[state][0] = R1[state] + gamma * epsilon_greedy(next_state, 1, last_Q_table, epsilon)\n",
    "            ''' Action 2: '''\n",
    "            next_state = T2[state]\n",
    "            #Q_table[state][1] = R[state, next_state] + gamma * epsilon_greedy(next_state, 2, last_Q_table, epsilon)\n",
    "            Q_table[state][1] = R2[state] + gamma * epsilon_greedy(next_state, 2, last_Q_table, epsilon)\n",
    "        # Print first iteration: so can check if correct\n",
    "        if epochs == 1 and do_print_first:  print( Q_table)\n",
    "    if do_print:\n",
    "        print(epochs)\n",
    "        print(Q_table)"
   ]
  },
  {
   "cell_type": "code",
   "execution_count": 68,
   "metadata": {},
   "outputs": [
    {
     "name": "stdout",
     "output_type": "stream",
     "text": [
      "241\n",
      "[[ 6.561   6.1049]\n",
      " [ 7.29    5.9049]\n",
      " [ 8.1     5.9049]\n",
      " [ 9.      5.9049]\n",
      " [10.      5.9049]]\n"
     ]
    }
   ],
   "source": [
    "'''\n",
    "Running Part 1 for 5 states\n",
    "'''\n",
    "part_1(states = 5, convergence_crit=1e-10, do_print=True)"
   ]
  },
  {
   "cell_type": "code",
   "execution_count": 69,
   "metadata": {},
   "outputs": [
    {
     "name": "stdout",
     "output_type": "stream",
     "text": [
      "247\n",
      "[[ 3.87420489  3.6867844 ]\n",
      " [ 4.3046721   3.4867844 ]\n",
      " [ 4.782969    3.4867844 ]\n",
      " [ 5.31441     3.4867844 ]\n",
      " [ 5.9049      3.4867844 ]\n",
      " [ 6.561       3.4867844 ]\n",
      " [ 7.29        3.4867844 ]\n",
      " [ 8.1         3.4867844 ]\n",
      " [ 9.          3.4867844 ]\n",
      " [10.          3.4867844 ]]\n"
     ]
    }
   ],
   "source": [
    "'''\n",
    "Running Part 1 for 10 states\n",
    "'''\n",
    "part_1(states = 10, convergence_crit=1e-10, do_print=True)"
   ]
  }
 ],
 "metadata": {
  "interpreter": {
   "hash": "571775b6b1c8bf1344d81ba631d9525b33533638421747ca8eeb161762204825"
  },
  "kernelspec": {
   "display_name": "Python 3.8.8 64-bit ('base': conda)",
   "language": "python",
   "name": "python3"
  },
  "language_info": {
   "codemirror_mode": {
    "name": "ipython",
    "version": 3
   },
   "file_extension": ".py",
   "mimetype": "text/x-python",
   "name": "python",
   "nbconvert_exporter": "python",
   "pygments_lexer": "ipython3",
   "version": "3.8.8"
  },
  "orig_nbformat": 4
 },
 "nbformat": 4,
 "nbformat_minor": 2
}
