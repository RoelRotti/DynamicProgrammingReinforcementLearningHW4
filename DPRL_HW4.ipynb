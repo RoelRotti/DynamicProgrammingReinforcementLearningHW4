{
 "cells": [
  {
   "cell_type": "code",
   "execution_count": 2,
   "metadata": {},
   "outputs": [],
   "source": [
    "import numpy as np\n",
    "import math \n",
    "from copy import deepcopy\n",
    "import matplotlib.pyplot as plt\n",
    "from tqdm import tqdm\n",
    "\n",
    "# https://towardsdatascience.com/deep-q-learning-tutorial-mindqn-2a4c855abffc "
   ]
  },
  {
   "cell_type": "markdown",
   "metadata": {},
   "source": [
    "Part 1\n",
    "Question 1"
   ]
  },
  {
   "cell_type": "code",
   "execution_count": 3,
   "metadata": {},
   "outputs": [],
   "source": [
    "na = np.nan\n",
    "# Transition matrix, where the first column is a(2) and the diagonal plus lower right value is a(1)\n",
    "T = np.array([[1, 1, na, na, na],\n",
    "              [1, na, 1, na, na],\n",
    "              [1, na, na, 1, na],\n",
    "              [1, na, na, na, 1],\n",
    "              [1, na, na, na, 1]])\n",
    "T1 = np.array([[na, 1, na, na, na],\n",
    "              [na, na, 1, na, na],\n",
    "              [na, na, na, 1, na],\n",
    "              [na, na, na, na, 1],\n",
    "              [na, na, na, na, 1]])\n",
    "T1 = [1, 2, 3, 4, 4]\n",
    "T2 = np.array([[1, na, na, na, na],\n",
    "              [1, na, na, na, na],\n",
    "              [1, na, na, na, na],\n",
    "              [1, na, na, na, na],\n",
    "              [1, na, na, na, na]])\n",
    "T2 = [0, 0, 0, 0, 0]\n",
    "# Reward matrix, where the first column is a(2) and the diagonal plus lower right value is a(1)\n",
    "R = np.array([[.2, 0, na, na, na],\n",
    "              [0, na, 0, na, na],\n",
    "              [0, na, na, 0, na],\n",
    "              [0, na, na, na, 0],\n",
    "              [0, na, na, na, 1]])\n",
    "R1 = np.array([[na, 0, na, na, na],\n",
    "              [na, na, 0, na, na],\n",
    "              [na, na, na, 0, na],\n",
    "              [na, na, na, na, 0],\n",
    "              [na, na, na, na, 1]])\n",
    "R1 = [0, 0, 0, 0, 1]\n",
    "R2 = np.array([[.2, na, na, na, na],\n",
    "              [0, na, na, na, na],\n",
    "              [0, na, na, na, na],\n",
    "              [0, na, na, na, na],\n",
    "              [0, na, na, na, na]])\n",
    "R2 = [0.2, 0, 0, 0, 0]\n",
    "\n",
    "# Q table for all states (1-5/0-4)\n",
    "Q_table = np.array([[0, 0.2],\n",
    "                    [0, 0],\n",
    "                    [0, 0],\n",
    "                    [0, 0],\n",
    "                    [1, 0]])\n",
    "# Discount factor\n",
    "gamma = 0.9 "
   ]
  },
  {
   "cell_type": "code",
   "execution_count": 31,
   "metadata": {},
   "outputs": [],
   "source": [
    "'''\n",
    "Epsilon greedy: try random (in this case 'min') move with epsilon probability\n",
    "'''\n",
    "def epsilon_greedy(next_state, action, Q_table, eps):\n",
    "    if np.random.random() < eps:\n",
    "        # Minimum since only 2 options\n",
    "        return np.min(Q_table[next_state])\n",
    "    else:\n",
    "        return np.max(Q_table[next_state])\n",
    "\n",
    "'''\n",
    "Function to run Part 1 with different Q-tables, Transisition- and Reward matrices\n",
    "'''\n",
    "def part_1(states = 5, convergence_crit = 0.0001, epsilon = 0, alpha = 0.1, do_print = False, do_print_first = False, bellman = True):\n",
    "\n",
    "    if states == 5:\n",
    "        # Q table for all states (1-5/0-4)\n",
    "        Q_table = np.array([[0, 0.2], [0, 0], [0, 0], [0, 0], [1, 0]])\n",
    "        T1 = [1, 2, 3, 4, 4]\n",
    "        T2 = [0, 0, 0, 0, 0]\n",
    "        R1 = [0, 0, 0, 0, 1]\n",
    "        R2 = [0.2, 0, 0, 0, 0]\n",
    "    else: # states == 10\n",
    "        # Q table for all states (1-10/0-9)\n",
    "        Q_table = np.array([[0, 0.2], [0, 0], [0, 0], [0, 0], [0, 0], [0, 0], [0, 0], [0, 0], [0, 0], [1, 0]] )\n",
    "        T1 = [1, 2, 3, 4, 5, 6, 7, 8, 9, 9]\n",
    "        T2 = [0, 0, 0, 0, 0, 0, 0, 0, 0, 0]\n",
    "        R1 = [0, 0, 0, 0, 0, 0, 0, 0, 0, 1]\n",
    "        R2 = [0.2, 0, 0, 0, 0, 0, 0, 0, 0, 0]\n",
    "\n",
    "    last_Q_table = np.array([np.inf])\n",
    "    epochs = 0\n",
    "    while np.abs(np.sum(Q_table) - np.sum(last_Q_table)) > convergence_crit:\n",
    "        #print(np.abs(np.sum(Q_table) - np.sum(last_Q_table)))\n",
    "        epochs += 1\n",
    "        last_Q_table = deepcopy(Q_table)\n",
    "        for state in range(len(Q_table)):\n",
    "            \n",
    "            ''' Action 1: '''\n",
    "            next_state = T1[state]\n",
    "            #Q_table[state][0] = R[state, next_state] + gamma * epsilon_greedy(next_state, 1, last_Q_table, epsilon)\n",
    "            if bellman: Q_table[state][0] = R1[state] + gamma * epsilon_greedy(next_state, 1, last_Q_table, epsilon)\n",
    "            else: Q_table[state][0] = Q_table[state][0] + alpha * (R1[state] + gamma * epsilon_greedy(next_state, 1, last_Q_table, epsilon) - Q_table[state][0])\n",
    "\n",
    "            ''' Action 2: '''\n",
    "            next_state = T2[state]\n",
    "            #Q_table[state][1] = R[state, next_state] + gamma * epsilon_greedy(next_state, 2, last_Q_table, epsilon)\n",
    "            if bellman: Q_table[state][1] = R2[state] + gamma * epsilon_greedy(next_state, 2, last_Q_table, epsilon)\n",
    "            else: Q_table[state][1] = Q_table[state][1] + alpha * ( R2[state] + gamma * epsilon_greedy(next_state, 2, last_Q_table, epsilon) - Q_table[state][1])\n",
    "\n",
    "        # Print first iteration: so can check if correct\n",
    "        if epochs == 1 and do_print_first:  print( Q_table)\n",
    "\n",
    "        # If more than 3 million epochs abort\n",
    "        if epochs > 3e6: \n",
    "            return None\n",
    "    if do_print:\n",
    "        print(epochs)\n",
    "        print(Q_table)\n",
    "    return epochs"
   ]
  },
  {
   "cell_type": "code",
   "execution_count": 35,
   "metadata": {},
   "outputs": [
    {
     "name": "stdout",
     "output_type": "stream",
     "text": [
      "[[0.   0.38]\n",
      " [0.   0.18]\n",
      " [0.   0.18]\n",
      " [0.9  0.18]\n",
      " [1.9  0.18]]\n",
      "241\n",
      "[[ 6.561   6.1049]\n",
      " [ 7.29    5.9049]\n",
      " [ 8.1     5.9049]\n",
      " [ 9.      5.9049]\n",
      " [10.      5.9049]]\n"
     ]
    }
   ],
   "source": [
    "epochs = part_1(states = 5, convergence_crit=1e-10, do_print=True, bellman=True, do_print_first=True, epsilon=0)"
   ]
  },
  {
   "cell_type": "code",
   "execution_count": 6,
   "metadata": {},
   "outputs": [
    {
     "name": "stdout",
     "output_type": "stream",
     "text": [
      "[0.01 0.02 0.03 0.04 0.05 0.06 0.07 0.08 0.09 0.1  0.11 0.12 0.13 0.14\n",
      " 0.15 0.16 0.17 0.18 0.19 0.2  0.21 0.22 0.23 0.24 0.25 0.26 0.27 0.28\n",
      " 0.29 0.3  0.31 0.32 0.33 0.34 0.35 0.36 0.37 0.38 0.39 0.4  0.41 0.42\n",
      " 0.43 0.44 0.45 0.46 0.47 0.48 0.49 0.5  0.51 0.52 0.53 0.54 0.55 0.56\n",
      " 0.57 0.58 0.59 0.6  0.61 0.62 0.63 0.64 0.65 0.66 0.67 0.68 0.69 0.7\n",
      " 0.71 0.72 0.73 0.74 0.75 0.76 0.77 0.78 0.79 0.8  0.81 0.82 0.83 0.84\n",
      " 0.85 0.86 0.87 0.88 0.89 0.9  0.91 0.92 0.93 0.94 0.95 0.96 0.97 0.98\n",
      " 0.99 1.   1.01 1.02 1.03 1.04 1.05 1.06 1.07 1.08 1.09]\n",
      "[20609, 10646, 7229, 5492, 4436, 3725, 3214, 2827, 2525, 2282, 2082, 1915, 1773, 1651, 1545, 1452, 1369, 1296, 1230, 1170, 1116, 1067, 1022, 981, 943, 908, 875, 845, 817, 790, 765, 742, 720, 699, 680, 662, 644, 628, 612, 597, 583, 569, 556, 544, 532, 521, 510, 499, 489, 480, 470, 462, 453, 445, 437, 429, 422, 415, 408, 401, 394, 388, 382, 376, 370, 365, 359, 354, 349, 344, 339, 335, 330, 326, 321, 317, 313, 309, 305, 301, 298, 294, 290, 287, 284, 280, 277, 274, 271, 268, 265, 262, 259, 256, 254, 251, 248, 246, 243, 241, 238, 236, 234, 232, 229, 227, 225, 223, 221]\n"
     ]
    },
    {
     "data": {
      "image/png": "[encoded data removed]",
      "text/plain": [
       "<Figure size 432x288 with 1 Axes>"
      ]
     },
     "metadata": {
      "needs_background": "light"
     },
     "output_type": "display_data"
    }
   ],
   "source": [
    "'''\n",
    "Running Part 1 for 5 states: impact alpha\n",
    "'''\n",
    "impact_alpha = []\n",
    "alphas = np.arange(0.01, 1.1 ,.01)\n",
    "for alpha in alphas:\n",
    "    #print(alpha)\n",
    "    epochs = part_1(states = 5, convergence_crit=1e-10, do_print=False, alpha = alpha, bellman=False, do_print_first=False, epsilon=0)\n",
    "    impact_alpha.append(epochs)\n",
    "\n",
    "    \n",
    "print(alphas)\n",
    "print(impact_alpha)\n",
    "\n",
    "plt.plot(alphas, impact_alpha, label = \"batch_size = 16\" )\n",
    "plt.xlabel('Alpha')\n",
    "plt.ylabel('Epochs')\n",
    "plt.title('Amount of epochs for different alphas, epsilon = 0. States = 5')\n",
    "plt.xticks(np.arange(0, 1.1, .1))\n",
    "plt.yscale('log')\n",
    "plt.savefig('part_1_5states_alphas_eps=0.pdf')\n",
    "plt.show()"
   ]
  },
  {
   "cell_type": "code",
   "execution_count": 38,
   "metadata": {},
   "outputs": [
    {
     "name": "stdout",
     "output_type": "stream",
     "text": [
      "[0.   0.01 0.02 0.03 0.04 0.05 0.06 0.07 0.08 0.09]\n"
     ]
    },
    {
     "name": "stderr",
     "output_type": "stream",
     "text": [
      " 20%|██        | 2/10 [00:00<00:00, 15.22it/s]"
     ]
    },
    {
     "name": "stdout",
     "output_type": "stream",
     "text": [
      "0.0\n",
      "0.01\n",
      "0.02\n",
      "0.03\n"
     ]
    },
    {
     "name": "stderr",
     "output_type": "stream",
     "text": [
      " 40%|████      | 4/10 [00:05<00:09,  1.53s/it]"
     ]
    },
    {
     "name": "stdout",
     "output_type": "stream",
     "text": [
      "0.04\n"
     ]
    },
    {
     "name": "stderr",
     "output_type": "stream",
     "text": [
      " 50%|█████     | 5/10 [00:08<00:09,  1.94s/it]"
     ]
    },
    {
     "name": "stdout",
     "output_type": "stream",
     "text": [
      "0.05\n"
     ]
    },
    {
     "name": "stderr",
     "output_type": "stream",
     "text": [
      " 50%|█████     | 5/10 [04:19<04:19, 51.83s/it]\n"
     ]
    },
    {
     "name": "stdout",
     "output_type": "stream",
     "text": [
      "[0.   0.01 0.02 0.03 0.04]\n",
      "[241, 648, 22047, 27941, 26751]\n"
     ]
    },
    {
     "data": {
      "image/png": "[encoded data removed]",
      "text/plain": [
       "<Figure size 432x288 with 1 Axes>"
      ]
     },
     "metadata": {
      "needs_background": "light"
     },
     "output_type": "display_data"
    }
   ],
   "source": [
    "'''\n",
    "Running Part 1 for 5 states: impact epsilon\n",
    "'''\n",
    "impact_epsilon = []\n",
    "epsilons = np.arange(0, 0.1 ,.01)\n",
    "print(epsilons)\n",
    "for epsilon in tqdm(epsilons):\n",
    "    print(epsilon)\n",
    "    #print(alpha)\n",
    "    epochs = part_1(states = 5, convergence_crit=1e-10, do_print=False, alpha = 0, bellman=True, do_print_first=False, epsilon=epsilon)\n",
    "    if epochs == None:\n",
    "        break\n",
    "    impact_epsilon.append(epochs)\n",
    "\n",
    "    \n",
    "print(epsilons[:len(impact_epsilon)])\n",
    "print(impact_epsilon)\n",
    "\n",
    "plt.plot(epsilons[:len(impact_epsilon)], impact_epsilon, label = \"batch_size = 16\" )\n",
    "plt.xlabel('Epsilon')\n",
    "plt.ylabel('Epochs')\n",
    "plt.title('Amount of epochs for different epsilons, alpha = 1. States = 5')\n",
    "plt.xticks(epsilons[:len(impact_epsilon)])\n",
    "plt.yscale('log')\n",
    "plt.savefig('part_1_5states_epsilons_alpha=1.pdf')\n",
    "plt.show()"
   ]
  },
  {
   "cell_type": "code",
   "execution_count": 37,
   "metadata": {},
   "outputs": [
    {
     "name": "stdout",
     "output_type": "stream",
     "text": [
      "[0.   0.01 0.02 0.03 0.04 0.05 0.06 0.07 0.08 0.09]\n"
     ]
    },
    {
     "name": "stderr",
     "output_type": "stream",
     "text": [
      " 20%|██        | 2/10 [00:00<00:00, 14.20it/s]"
     ]
    },
    {
     "name": "stdout",
     "output_type": "stream",
     "text": [
      "0.0\n",
      "0.01\n",
      "0.02\n",
      "0.03\n"
     ]
    },
    {
     "name": "stderr",
     "output_type": "stream",
     "text": [
      " 40%|████      | 4/10 [00:11<00:19,  3.28s/it]"
     ]
    },
    {
     "name": "stdout",
     "output_type": "stream",
     "text": [
      "0.04\n"
     ]
    },
    {
     "name": "stderr",
     "output_type": "stream",
     "text": [
      " 50%|█████     | 5/10 [06:37<09:42, 116.59s/it]"
     ]
    },
    {
     "name": "stdout",
     "output_type": "stream",
     "text": [
      "0.05\n"
     ]
    },
    {
     "name": "stderr",
     "output_type": "stream",
     "text": [
      " 50%|█████     | 5/10 [13:20<13:20, 160.02s/it]\n"
     ]
    },
    {
     "name": "stdout",
     "output_type": "stream",
     "text": [
      "[0.   0.01 0.02 0.03 0.04]\n",
      "[247, 323, 3751, 72345, 2691107]\n"
     ]
    },
    {
     "data": {
      "image/png": "[encoded data removed]",
      "text/plain": [
       "<Figure size 432x288 with 1 Axes>"
      ]
     },
     "metadata": {
      "needs_background": "light"
     },
     "output_type": "display_data"
    }
   ],
   "source": [
    "'''\n",
    "Running Part 1 for 10 states\n",
    "'''\n",
    "'''\n",
    "Running Part 1 for 5 states: impact epsilon\n",
    "'''\n",
    "impact_epsilon = []\n",
    "epsilons = np.arange(0, 0.1 ,.01)\n",
    "print(epsilons)\n",
    "for epsilon in tqdm(epsilons):\n",
    "    print(epsilon)\n",
    "    #print(alpha)\n",
    "    epochs = part_1(states = 10, convergence_crit=1e-10, do_print=False, alpha = 0, bellman=True, do_print_first=False, epsilon=epsilon)\n",
    "    if epochs == None:\n",
    "        break\n",
    "    impact_epsilon.append(epochs)\n",
    "\n",
    "    \n",
    "print(epsilons[:len(impact_epsilon)])\n",
    "print(impact_epsilon)\n",
    "\n",
    "plt.plot(epsilons[:len(impact_epsilon)], impact_epsilon, label = \"batch_size = 16\" )\n",
    "plt.xlabel('Epsilon')\n",
    "plt.ylabel('Epochs')\n",
    "plt.title('Amount of epochs for different epsilons, alpha = 1. States = 10')\n",
    "plt.xticks(epsilons[:len(impact_epsilon)])\n",
    "plt.yscale('log')\n",
    "plt.savefig('part_1_10states_epsilons_alpha=1.pdf')\n",
    "plt.show()"
   ]
  },
  {
   "cell_type": "code",
   "execution_count": null,
   "metadata": {},
   "outputs": [],
   "source": [
    "#TODO: Put both epsilons in one figure\n",
    "\n",
    "plt.plot(epsilons[:len(impact_epsilon)], impact_epsilon, label = \"batch_size = 16\" )\n",
    "plt.xlabel('Epsilon')\n",
    "plt.ylabel('Epochs')\n",
    "plt.title('Amount of epochs for different epsilons, alpha = 1. States = 10')\n",
    "plt.xticks(epsilons[:len(impact_epsilon)])\n",
    "plt.yscale('log')\n",
    "plt.savefig('part_1_10states_epsilons_alpha=1.pdf')\n",
    "plt.show()"
   ]
  },
  {
   "cell_type": "markdown",
   "metadata": {},
   "source": [
    "Part 2 : Function approximations"
   ]
  }
 ],
 "metadata": {
  "interpreter": {
   "hash": "571775b6b1c8bf1344d81ba631d9525b33533638421747ca8eeb161762204825"
  },
  "kernelspec": {
   "display_name": "Python 3.8.8 64-bit ('base': conda)",
   "language": "python",
   "name": "python3"
  },
  "language_info": {
   "codemirror_mode": {
    "name": "ipython",
    "version": 3
   },
   "file_extension": ".py",
   "mimetype": "text/x-python",
   "name": "python",
   "nbconvert_exporter": "python",
   "pygments_lexer": "ipython3",
   "version": "3.8.8"
  },
  "orig_nbformat": 4
 },
 "nbformat": 4,
 "nbformat_minor": 2
}
